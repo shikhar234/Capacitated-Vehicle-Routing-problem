{
 "cells": [
  {
   "cell_type": "markdown",
   "id": "37888673",
   "metadata": {},
   "source": [
    "# Number of depot = 2\n",
    "\n",
    "# Number of customer = 14\n",
    "\n",
    "# Number of vehicles per depot = 2\n",
    "\n",
    "# Demand and serive time of all customer are given\n",
    "\n",
    "# Location of every node is given\n",
    "\n",
    "# Assymetric distance matrix is considered by taking random value with a specified range about euclidean distance\n",
    "\n",
    "# Vehicle maximum allowed distance and time is considered\n",
    "\n",
    "# Vehicle capacity is given"
   ]
  },
  {
   "cell_type": "code",
   "execution_count": 1,
   "id": "7cc4098c",
   "metadata": {},
   "outputs": [],
   "source": [
    "import networkx as nx\n",
    "import pandas as pd\n",
    "import matplotlib.pyplot as plt\n",
    "import numpy as np\n",
    "import random as rnd\n",
    "import math as mt\n",
    "import docplex.mp\n",
    "from docplex.mp.model import Model\n",
    "from cplex.callbacks import LazyConstraintCallback, UserCutCallback\n",
    "from docplex.mp.callbacks.cb_mixin import ConstraintCallbackMixin"
   ]
  },
  {
   "cell_type": "code",
   "execution_count": 2,
   "id": "b6d3dd52",
   "metadata": {},
   "outputs": [],
   "source": [
    "veh_speed = 35\n",
    "P = 0.02           # percent of mean distance for interval of distance"
   ]
  },
  {
   "cell_type": "code",
   "execution_count": 3,
   "id": "4cedb742",
   "metadata": {},
   "outputs": [],
   "source": [
    "depot_coor = pd.read_excel(r'C:\\Users\\shikh\\OneDrive - IIT Kanpur\\Desktop\\Shikhar\\Important Documents\\Vehicle Routing Project\\CVRP on 16 nodes\\Data Set - 2_Depot 14_Customer.xlsx', sheet_name='Depot Details')\n",
    "customer_det = pd.read_excel(r'C:\\Users\\shikh\\OneDrive - IIT Kanpur\\Desktop\\Shikhar\\Important Documents\\Vehicle Routing Project\\CVRP on 16 nodes\\Data Set - 2_Depot 14_Customer.xlsx', sheet_name='Customer Details')\n",
    "depot_coor_copy = depot_coor.drop('Depot', axis=1)\n",
    "customer_det_copy = customer_det.drop('Customer', axis=1)\n",
    "depot_coor.index = list(depot_coor['Depot'])\n",
    "customer_det.index = list(customer_det['Customer'])"
   ]
  },
  {
   "cell_type": "code",
   "execution_count": 4,
   "id": "1c13d433",
   "metadata": {},
   "outputs": [
    {
     "data": {
      "text/html": [
       "<div>\n",
       "<style scoped>\n",
       "    .dataframe tbody tr th:only-of-type {\n",
       "        vertical-align: middle;\n",
       "    }\n",
       "\n",
       "    .dataframe tbody tr th {\n",
       "        vertical-align: top;\n",
       "    }\n",
       "\n",
       "    .dataframe thead th {\n",
       "        text-align: right;\n",
       "    }\n",
       "</style>\n",
       "<table border=\"1\" class=\"dataframe\">\n",
       "  <thead>\n",
       "    <tr style=\"text-align: right;\">\n",
       "      <th></th>\n",
       "      <th>Node</th>\n",
       "      <th>X coordinate</th>\n",
       "      <th>Y coordinate</th>\n",
       "      <th>No of vehicles</th>\n",
       "      <th>Capacity</th>\n",
       "      <th>Max allowed distance</th>\n",
       "      <th>Max allowed time</th>\n",
       "      <th>Demand</th>\n",
       "      <th>Service Time</th>\n",
       "    </tr>\n",
       "  </thead>\n",
       "  <tbody>\n",
       "    <tr>\n",
       "      <th>1</th>\n",
       "      <td>1</td>\n",
       "      <td>456</td>\n",
       "      <td>320</td>\n",
       "      <td>2.0</td>\n",
       "      <td>15.0</td>\n",
       "      <td>1600.0</td>\n",
       "      <td>40.0</td>\n",
       "      <td>0</td>\n",
       "      <td>0.00</td>\n",
       "    </tr>\n",
       "    <tr>\n",
       "      <th>2</th>\n",
       "      <td>2</td>\n",
       "      <td>456</td>\n",
       "      <td>480</td>\n",
       "      <td>2.0</td>\n",
       "      <td>15.0</td>\n",
       "      <td>1600.0</td>\n",
       "      <td>40.0</td>\n",
       "      <td>0</td>\n",
       "      <td>0.00</td>\n",
       "    </tr>\n",
       "    <tr>\n",
       "      <th>3</th>\n",
       "      <td>3</td>\n",
       "      <td>228</td>\n",
       "      <td>0</td>\n",
       "      <td>NaN</td>\n",
       "      <td>NaN</td>\n",
       "      <td>NaN</td>\n",
       "      <td>NaN</td>\n",
       "      <td>1</td>\n",
       "      <td>0.49</td>\n",
       "    </tr>\n",
       "    <tr>\n",
       "      <th>4</th>\n",
       "      <td>4</td>\n",
       "      <td>912</td>\n",
       "      <td>0</td>\n",
       "      <td>NaN</td>\n",
       "      <td>NaN</td>\n",
       "      <td>NaN</td>\n",
       "      <td>NaN</td>\n",
       "      <td>1</td>\n",
       "      <td>1.16</td>\n",
       "    </tr>\n",
       "    <tr>\n",
       "      <th>5</th>\n",
       "      <td>5</td>\n",
       "      <td>0</td>\n",
       "      <td>80</td>\n",
       "      <td>NaN</td>\n",
       "      <td>NaN</td>\n",
       "      <td>NaN</td>\n",
       "      <td>NaN</td>\n",
       "      <td>2</td>\n",
       "      <td>0.89</td>\n",
       "    </tr>\n",
       "    <tr>\n",
       "      <th>6</th>\n",
       "      <td>6</td>\n",
       "      <td>114</td>\n",
       "      <td>80</td>\n",
       "      <td>NaN</td>\n",
       "      <td>NaN</td>\n",
       "      <td>NaN</td>\n",
       "      <td>NaN</td>\n",
       "      <td>4</td>\n",
       "      <td>0.32</td>\n",
       "    </tr>\n",
       "    <tr>\n",
       "      <th>7</th>\n",
       "      <td>7</td>\n",
       "      <td>570</td>\n",
       "      <td>160</td>\n",
       "      <td>NaN</td>\n",
       "      <td>NaN</td>\n",
       "      <td>NaN</td>\n",
       "      <td>NaN</td>\n",
       "      <td>2</td>\n",
       "      <td>0.52</td>\n",
       "    </tr>\n",
       "    <tr>\n",
       "      <th>8</th>\n",
       "      <td>8</td>\n",
       "      <td>798</td>\n",
       "      <td>160</td>\n",
       "      <td>NaN</td>\n",
       "      <td>NaN</td>\n",
       "      <td>NaN</td>\n",
       "      <td>NaN</td>\n",
       "      <td>4</td>\n",
       "      <td>0.86</td>\n",
       "    </tr>\n",
       "    <tr>\n",
       "      <th>9</th>\n",
       "      <td>9</td>\n",
       "      <td>342</td>\n",
       "      <td>240</td>\n",
       "      <td>NaN</td>\n",
       "      <td>NaN</td>\n",
       "      <td>NaN</td>\n",
       "      <td>NaN</td>\n",
       "      <td>8</td>\n",
       "      <td>0.28</td>\n",
       "    </tr>\n",
       "    <tr>\n",
       "      <th>10</th>\n",
       "      <td>10</td>\n",
       "      <td>684</td>\n",
       "      <td>240</td>\n",
       "      <td>NaN</td>\n",
       "      <td>NaN</td>\n",
       "      <td>NaN</td>\n",
       "      <td>NaN</td>\n",
       "      <td>8</td>\n",
       "      <td>1.29</td>\n",
       "    </tr>\n",
       "    <tr>\n",
       "      <th>11</th>\n",
       "      <td>11</td>\n",
       "      <td>570</td>\n",
       "      <td>400</td>\n",
       "      <td>NaN</td>\n",
       "      <td>NaN</td>\n",
       "      <td>NaN</td>\n",
       "      <td>NaN</td>\n",
       "      <td>1</td>\n",
       "      <td>1.24</td>\n",
       "    </tr>\n",
       "    <tr>\n",
       "      <th>12</th>\n",
       "      <td>12</td>\n",
       "      <td>912</td>\n",
       "      <td>400</td>\n",
       "      <td>NaN</td>\n",
       "      <td>NaN</td>\n",
       "      <td>NaN</td>\n",
       "      <td>NaN</td>\n",
       "      <td>2</td>\n",
       "      <td>0.44</td>\n",
       "    </tr>\n",
       "    <tr>\n",
       "      <th>13</th>\n",
       "      <td>13</td>\n",
       "      <td>114</td>\n",
       "      <td>480</td>\n",
       "      <td>NaN</td>\n",
       "      <td>NaN</td>\n",
       "      <td>NaN</td>\n",
       "      <td>NaN</td>\n",
       "      <td>1</td>\n",
       "      <td>0.25</td>\n",
       "    </tr>\n",
       "    <tr>\n",
       "      <th>14</th>\n",
       "      <td>14</td>\n",
       "      <td>228</td>\n",
       "      <td>480</td>\n",
       "      <td>NaN</td>\n",
       "      <td>NaN</td>\n",
       "      <td>NaN</td>\n",
       "      <td>NaN</td>\n",
       "      <td>2</td>\n",
       "      <td>1.32</td>\n",
       "    </tr>\n",
       "    <tr>\n",
       "      <th>15</th>\n",
       "      <td>15</td>\n",
       "      <td>342</td>\n",
       "      <td>560</td>\n",
       "      <td>NaN</td>\n",
       "      <td>NaN</td>\n",
       "      <td>NaN</td>\n",
       "      <td>NaN</td>\n",
       "      <td>4</td>\n",
       "      <td>1.32</td>\n",
       "    </tr>\n",
       "    <tr>\n",
       "      <th>16</th>\n",
       "      <td>16</td>\n",
       "      <td>684</td>\n",
       "      <td>560</td>\n",
       "      <td>NaN</td>\n",
       "      <td>NaN</td>\n",
       "      <td>NaN</td>\n",
       "      <td>NaN</td>\n",
       "      <td>4</td>\n",
       "      <td>0.73</td>\n",
       "    </tr>\n",
       "  </tbody>\n",
       "</table>\n",
       "</div>"
      ],
      "text/plain": [
       "    Node  X coordinate  Y coordinate  No of vehicles  Capacity  \\\n",
       "1      1           456           320             2.0      15.0   \n",
       "2      2           456           480             2.0      15.0   \n",
       "3      3           228             0             NaN       NaN   \n",
       "4      4           912             0             NaN       NaN   \n",
       "5      5             0            80             NaN       NaN   \n",
       "6      6           114            80             NaN       NaN   \n",
       "7      7           570           160             NaN       NaN   \n",
       "8      8           798           160             NaN       NaN   \n",
       "9      9           342           240             NaN       NaN   \n",
       "10    10           684           240             NaN       NaN   \n",
       "11    11           570           400             NaN       NaN   \n",
       "12    12           912           400             NaN       NaN   \n",
       "13    13           114           480             NaN       NaN   \n",
       "14    14           228           480             NaN       NaN   \n",
       "15    15           342           560             NaN       NaN   \n",
       "16    16           684           560             NaN       NaN   \n",
       "\n",
       "    Max allowed distance  Max allowed time  Demand  Service Time  \n",
       "1                 1600.0              40.0       0          0.00  \n",
       "2                 1600.0              40.0       0          0.00  \n",
       "3                    NaN               NaN       1          0.49  \n",
       "4                    NaN               NaN       1          1.16  \n",
       "5                    NaN               NaN       2          0.89  \n",
       "6                    NaN               NaN       4          0.32  \n",
       "7                    NaN               NaN       2          0.52  \n",
       "8                    NaN               NaN       4          0.86  \n",
       "9                    NaN               NaN       8          0.28  \n",
       "10                   NaN               NaN       8          1.29  \n",
       "11                   NaN               NaN       1          1.24  \n",
       "12                   NaN               NaN       2          0.44  \n",
       "13                   NaN               NaN       1          0.25  \n",
       "14                   NaN               NaN       2          1.32  \n",
       "15                   NaN               NaN       4          1.32  \n",
       "16                   NaN               NaN       4          0.73  "
      ]
     },
     "execution_count": 4,
     "metadata": {},
     "output_type": "execute_result"
    }
   ],
   "source": [
    "all_nodes_det = pd.concat([depot_coor_copy, customer_det_copy], ignore_index=True)\n",
    "all_nodes_det.insert(0, 'Node', list(range(1, len(all_nodes_det) + 1)))\n",
    "all_nodes_det.index = list(range(1, len(all_nodes_det) + 1))\n",
    "all_nodes_det['Demand'] = all_nodes_det['Demand'].fillna(0)\n",
    "all_nodes_det['Service Time'] = all_nodes_det['Service Time'].fillna(0)\n",
    "all_nodes_det['Service Time'] = all_nodes_det['Service Time'].round(2)\n",
    "all_nodes_det = all_nodes_det.astype({'Demand' : 'int'})\n",
    "all_nodes_det"
   ]
  },
  {
   "cell_type": "code",
   "execution_count": 5,
   "id": "7c8fe581",
   "metadata": {},
   "outputs": [],
   "source": [
    "coor_dic = {i : (all_nodes_det['X coordinate'][i], all_nodes_det['Y coordinate'][i]) for i in all_nodes_det['Node']}"
   ]
  },
  {
   "cell_type": "code",
   "execution_count": 6,
   "id": "30572378",
   "metadata": {},
   "outputs": [],
   "source": [
    "distance_matrix = pd.DataFrame(index=list(range(1, len(all_nodes_det) + 1)), columns=list(range(1, len(all_nodes_det) + 1)))\n",
    "for i in all_nodes_det.index:\n",
    "    x1, y1 = coor_dic[i]\n",
    "    for j in range(i, len(all_nodes_det) + 1):\n",
    "        if i == j:\n",
    "            distance_matrix[i][i] = int(10e8)\n",
    "            continue\n",
    "        if i <= len(depot_coor) and j <= len(depot_coor):\n",
    "            distance_matrix[i][j] = int(10e8)\n",
    "            distance_matrix[j][i] = int(10e8)\n",
    "            continue\n",
    "        x2, y2 = coor_dic[j]\n",
    "        euclidean_distance = np.sqrt(pow(x1 - x2, 2) + pow(y1 - y2, 2))\n",
    "        distance_matrix[i][j] = rnd.randint(mt.ceil((1 - P) * euclidean_distance), mt.ceil((1 + P) * euclidean_distance))\n",
    "        distance_matrix[j][i] = rnd.randint(mt.ceil(0.98 * euclidean_distance), mt.ceil(1.02 * euclidean_distance))\n",
    "\n",
    "travel_time_matrix = (distance_matrix / veh_speed)\n",
    "for i in travel_time_matrix.index:\n",
    "    travel_time_matrix[i] = travel_time_matrix[i].apply(lambda x : round(x, 2))"
   ]
  },
  {
   "cell_type": "code",
   "execution_count": 7,
   "id": "6775a159",
   "metadata": {
    "scrolled": true
   },
   "outputs": [
    {
     "data": {
      "image/png": "[encoded data removed]",
      "text/plain": [
       "<Figure size 432x288 with 1 Axes>"
      ]
     },
     "metadata": {},
     "output_type": "display_data"
    }
   ],
   "source": [
    "G = nx.DiGraph()\n",
    "color_list = list()\n",
    "G.add_nodes_from(list(range(1,len(all_nodes_det)+1)))\n",
    "for node in G:\n",
    "    if node in list(depot_coor['Depot']):\n",
    "        color_list.append('pink')\n",
    "    else:\n",
    "        color_list.append('lime')\n",
    "nx.draw(G, pos=coor_dic, node_color=color_list, with_labels=True)\n",
    "plt.show()"
   ]
  },
  {
   "cell_type": "code",
   "execution_count": 8,
   "id": "2c73d2f4",
   "metadata": {},
   "outputs": [],
   "source": [
    "m = len(depot_coor)         # Number of depot                                                                  \n",
    "n = len(customer_det)       # Number of customer\n",
    "L = [i for i in depot_coor['Depot']]        # List of depot\n",
    "V = {i : depot_coor['No of vehicles'][i] for i in L}        # Number of vehicle at each depot\n",
    "V_ = {i : [j for j in range(1, depot_coor['No of vehicles'][i] + 1)] for i in L}   # Set of vehicle for each depot as dictionary\n",
    "C = [i for i in customer_det['Customer']]       # List of customers\n",
    "N = [i for i in all_nodes_det['Node']]         # List of all nodes\n",
    "CN = [i for i in N if i > len(L)]         # List of customer nodes\n",
    "Q = depot_coor['Capacity'][1]          # Capacity of vehicle [same for all vehicles]\n",
    "D = depot_coor['Max allowed distance'][1]           # Max allowed distance for vehicle [same for all vehicles]\n",
    "T = depot_coor['Max allowed time'][1]        # Max allowed time [same for all vehicles]\n",
    "q = {i: all_nodes_det['Demand'][i] for i in N}        # Demand dictionary of all nodes\n",
    "s = {i : all_nodes_det['Service Time'][i] for i in N}        # Service time for all nodes\n",
    "\n",
    "# Coordinates of all nodes\n",
    "x_coor = {i : all_nodes_det['X coordinate'][i] for i in N}\n",
    "y_coor = {i : all_nodes_det['Y coordinate'][i] for i in N}\n",
    "x_coor_list = [v for v in x_coor.values()]\n",
    "y_coor_list = [v for v in y_coor.values()]"
   ]
  },
  {
   "cell_type": "code",
   "execution_count": 9,
   "id": "6d147b87",
   "metadata": {},
   "outputs": [],
   "source": [
    "def index_condition(i, j, k, l):\n",
    "    if i != j and (i not in L or j not in L):\n",
    "        if i in L and i == l:\n",
    "            return True\n",
    "        elif i in L and i != l:\n",
    "            return False\n",
    "        elif j in L and j == l:\n",
    "            return True\n",
    "        elif j in L and j != l:\n",
    "            return False\n",
    "        else:\n",
    "            return True\n",
    "    else:\n",
    "        return False"
   ]
  },
  {
   "cell_type": "code",
   "execution_count": 10,
   "id": "31688e2b",
   "metadata": {},
   "outputs": [],
   "source": [
    "index_set = [(i, j, k, l) for i in N for j in N for l in L for k in V_[l] if index_condition(i, j, k, l)]\n",
    "d = {(i,j) : distance_matrix[i][j] for i, j, k, l in index_set}\n",
    "t = {(i,j) : travel_time_matrix[i][j] for i, j, k, l in index_set}"
   ]
  },
  {
   "cell_type": "code",
   "execution_count": 11,
   "id": "d447fd46",
   "metadata": {},
   "outputs": [
    {
     "data": {
      "text/plain": [
       "<matplotlib.collections.PathCollection at 0x213e42cf2b0>"
      ]
     },
     "execution_count": 11,
     "metadata": {},
     "output_type": "execute_result"
    },
    {
     "data": {
      "image/png": "[encoded data removed]",
      "text/plain": [
       "<Figure size 432x288 with 1 Axes>"
      ]
     },
     "metadata": {
      "needs_background": "light"
     },
     "output_type": "display_data"
    }
   ],
   "source": [
    "plt.scatter(x_coor_list, y_coor_list,s=50)\n",
    "for i in N:\n",
    "    plt.annotate('q_%d=%d'%(i, q[i]),(x_coor_list[i-1] + 4, y_coor_list[i-1]), fontsize=10)\n",
    "plt.scatter(x_coor_list[0], y_coor_list[0], marker='s',s=50)\n",
    "plt.scatter(x_coor_list[1], y_coor_list[1], marker='s',s=50)"
   ]
  },
  {
   "cell_type": "code",
   "execution_count": 12,
   "id": "b24959a0",
   "metadata": {},
   "outputs": [],
   "source": [
    "model = Model(name='CVRP')"
   ]
  },
  {
   "cell_type": "code",
   "execution_count": 13,
   "id": "27e92a37",
   "metadata": {},
   "outputs": [],
   "source": [
    "# for m depot and n customers and v vehicles per depot then number of binary variable = (2m + n - 3)vmn\n",
    "# for m depot and n customers and v vehicles per depot then number of continous variable = n\n",
    "# for m depot and n customers and v vehicles per depot then number of constraints = (m + n^2 + 3)vm + 2n"
   ]
  },
  {
   "cell_type": "code",
   "execution_count": 14,
   "id": "9ea89958",
   "metadata": {},
   "outputs": [],
   "source": [
    "x = model.binary_var_dict(index_set,name='x')\n",
    "u = model.continuous_var_dict(CN, ub=Q, name='u')"
   ]
  },
  {
   "cell_type": "code",
   "execution_count": 15,
   "id": "97df8ce7",
   "metadata": {},
   "outputs": [],
   "source": [
    "model.minimize(model.sum(d[i,j] * x[i,j,k,l] for i,j,k,l in index_set))"
   ]
  },
  {
   "cell_type": "code",
   "execution_count": 16,
   "id": "366acf41",
   "metadata": {},
   "outputs": [],
   "source": [
    "c1 = model.add_constraints((model.sum(x[i,j,k,l] for i in N if index_condition(i, j, k, l)) == \n",
    "                            model.sum(x[j,i,k,l] for i in N if index_condition(i, j, k, l)) \n",
    "                            for j in N for l in L for k in V_[l]), names='flow_constraints')\n",
    "\n",
    "c2 = model.add_constraints((model.sum(x[i,j,k,l] for i in N for l in L for k in V_[l] if index_condition(i, j, k, l)) == 1 \n",
    "                            for j in CN), names='customer_veh_constraints')\n",
    "\n",
    "c3 = model.add_constraints((model.sum(q[j] * x[i,j,k,l] for j in N for i in N if index_condition(i, j, k, l)) <= Q \n",
    "                            for l in L for k in V_[l]), names='Capacity Constraints')\n",
    "\n",
    "c4 = model.add_constraints((u[j] - u[i] >= q[j] - Q * (1 - x[i,j,k,l]) \n",
    "                            for i in CN for j in CN for l in L for k in V_[l] if i != j), names='sub_tour_elimination_1')\n",
    "\n",
    "c5 = model.add_constraints((u[i]>=q[i] for i in CN), names='sub_tour_elimination_2')\n",
    "\n",
    "c6 = model.add_constraints((model.sum(d[i,j] * x[i,j,k,l] for i in N for j in N if index_condition(i,j, k, l)) <= D \n",
    "                            for l in L for k in V_[l]), names='tour_distance_limit')\n",
    "\n",
    "c7 = model.add_constraints((model.sum((t[i,j] + s[j]) * x[i,j,k,l] for i in N for j in N if index_condition(i,j, k, l)) <= T \n",
    "                            for l in L for k in V_[l]), names='tour_time_limit')"
   ]
  },
  {
   "cell_type": "code",
   "execution_count": 17,
   "id": "d2ae74e1",
   "metadata": {},
   "outputs": [
    {
     "name": "stdout",
     "output_type": "stream",
     "text": [
      "Model: CVRP\n",
      " - number of variables: 854\n",
      "   - binary=840, integer=0, continuous=14\n",
      " - number of constraints: 832\n",
      "   - linear=832\n",
      " - parameters: defaults\n",
      " - objective: minimize\n",
      " - problem type is: MILP\n"
     ]
    }
   ],
   "source": [
    "model.print_information()"
   ]
  },
  {
   "cell_type": "code",
   "execution_count": 18,
   "id": "e3897fb8",
   "metadata": {},
   "outputs": [
    {
     "name": "stdout",
     "output_type": "stream",
     "text": [
      "Version identifier: 22.1.0.0 | 2022-03-25 | 54982fbec\n",
      "CPXPARAM_Read_DataCheck                          1\n",
      "Tried aggregator 1 time.\n",
      "MIP Presolve eliminated 26 rows and 8 columns.\n",
      "MIP Presolve modified 4 coefficients.\n",
      "Reduced MIP has 806 rows, 846 columns, and 7040 nonzeros.\n",
      "Reduced MIP has 832 binaries, 0 generals, 0 SOSs, and 0 indicators.\n",
      "Presolve time = 0.02 sec. (3.53 ticks)\n",
      "Probing time = 0.02 sec. (3.55 ticks)\n",
      "Tried aggregator 1 time.\n",
      "Detecting symmetries...\n",
      "Reduced MIP has 806 rows, 846 columns, and 7040 nonzeros.\n",
      "Reduced MIP has 832 binaries, 0 generals, 0 SOSs, and 0 indicators.\n",
      "Presolve time = 0.05 sec. (5.09 ticks)\n",
      "Probing time = 0.02 sec. (3.54 ticks)\n",
      "Clique table members: 1384.\n",
      "MIP emphasis: balance optimality and feasibility.\n",
      "MIP search method: dynamic search.\n",
      "Parallel mode: deterministic, using up to 4 threads.\n",
      "Root relaxation solution time = 0.05 sec. (2.13 ticks)\n",
      "\n",
      "        Nodes                                         Cuts/\n",
      "   Node  Left     Objective  IInf  Best Integer    Best Bound    ItCnt     Gap\n",
      "\n",
      "      0     0     2745.0000    34                   2745.0000       66         \n",
      "      0     0     2745.0000    30                    Cuts: 15       90         \n",
      "      0     0     2745.0000    36                   Cuts: 181      127         \n",
      "      0     0     2745.0000    36                   Cuts: 124      146         \n",
      "      0     2     2745.0000    32                   2745.0000      146         \n",
      "Elapsed time = 0.53 sec. (200.64 ticks, tree = 0.02 MB, solutions = 0)\n",
      "    849   421     3128.7500    23                   2924.8667    14836         \n",
      "*  1374+  744                         4111.0000     2960.8753            27.98%\n",
      "*  1620+  718                         4081.0000     2962.5867            27.41%\n",
      "*  1644   718      integral     0     4076.0000     2962.5867    28538   27.32%\n",
      "   1799   839    infeasible           4076.0000     2968.0471    30347   27.18%\n",
      "*  1841+  879                         4065.0000     2972.3500            26.88%\n",
      "\n",
      "Performing restart 1\n",
      "\n",
      "Repeating presolve.\n",
      "Tried aggregator 1 time.\n",
      "MIP Presolve modified 672 coefficients.\n",
      "Reduced MIP has 806 rows, 846 columns, and 6848 nonzeros.\n",
      "Reduced MIP has 832 binaries, 0 generals, 0 SOSs, and 0 indicators.\n",
      "Presolve time = 0.03 sec. (5.41 ticks)\n",
      "Tried aggregator 1 time.\n",
      "Reduced MIP has 806 rows, 846 columns, and 6848 nonzeros.\n",
      "Reduced MIP has 832 binaries, 0 generals, 0 SOSs, and 0 indicators.\n",
      "Presolve time = 0.02 sec. (5.12 ticks)\n",
      "Represolve time = 0.11 sec. (32.64 ticks)\n",
      "   2382     0     2762.0000    39     4065.0000      Cuts: 54    40398   26.15%\n",
      "   2382     0     2777.5714    38     4065.0000      Cuts: 30    40439   26.15%\n",
      "   2382     0     2856.6325    49     4065.0000      Cuts: 65    40529   26.15%\n",
      "   2382     0     2858.0828    54     4065.0000      Cuts: 34    40590   26.15%\n",
      "   2382     0     2858.0941    48     4065.0000      Cuts: 17    40603   26.15%\n",
      "   2382     0     2858.3333    38     4065.0000      Cuts: 27    40632   26.15%\n",
      "   2382     0     2860.5000    37     4065.0000      Cuts: 48    40720   26.15%\n",
      "   2382     2     2860.5000    31     4065.0000     3001.8000    40720   26.15%\n",
      "   2424    28     3079.6701    40     4065.0000     3001.8000    41493   26.15%\n",
      "   2611   130     2931.2921    42     4065.0000     3001.8000    45035   26.15%\n",
      "   2977   348     3105.6843    39     4065.0000     3001.8000    48270   26.15%\n",
      "   3674   909     3580.8220    25     4065.0000     3001.8000    56837   26.15%\n",
      "   4303  1299     3481.6115    37     4065.0000     3001.8000    64183   26.15%\n",
      "   4741  1682     3637.9956    20     4065.0000     3044.4286    72901   25.11%\n",
      "   7348  3327     3346.7519    28     4065.0000     3145.6910   107808   22.62%\n",
      "Elapsed time = 9.42 sec. (4435.48 ticks, tree = 2.43 MB, solutions = 4)\n",
      "   9367  4388     3337.8733    18     4065.0000     3223.0000   142767   20.71%\n",
      "  12077  5940     3588.3997    47     4065.0000     3276.4000   177872   19.40%\n",
      "  13838  7498     3374.0682    21     4065.0000     3300.5030   217181   18.81%\n",
      "* 14931+ 7732                         4056.0000     3315.2657            18.26%\n",
      "  16109  8261     4002.0000    22     4056.0000     3329.3881   246033   17.91%\n",
      "  18370  9073     3880.9021    19     4056.0000     3359.1818   278539   17.18%\n",
      "* 18941+ 9755                         4051.0000     3368.8167            16.84%\n",
      "* 18980+ 9784                         4039.0000     3368.8167            16.59%\n",
      "  20350 10246     3951.0000    16     4039.0000     3378.3568   316453   16.36%\n",
      "  21995 11062     3813.7644    31     4039.0000     3395.1944   349587   15.94%\n",
      "  23315 11444    infeasible           4039.0000     3410.8633   379530   15.55%\n",
      "  24984 12045        cutoff           4039.0000     3431.4389   417499   15.04%\n",
      "  26956 12281        cutoff           4039.0000     3457.5000   458912   14.40%\n",
      "Elapsed time = 27.86 sec. (13980.53 ticks, tree = 9.05 MB, solutions = 7)\n",
      "  28586 12035     3708.6307    30     4039.0000     3480.1740   490580   13.84%\n",
      "  29641 12035     3981.9707    51     4039.0000     3504.5385   528136   13.23%\n",
      "  31631 12126        cutoff           4039.0000     3529.9303   571455   12.60%\n",
      "  33514 11912        cutoff           4039.0000     3552.5214   598269   12.04%\n",
      "  34753 11424     3763.1574    24     4039.0000     3570.1758   638868   11.61%\n",
      "  36736 11018        cutoff           4039.0000     3600.6667   677400   10.85%\n",
      "  38558 10261        cutoff           4039.0000     3642.2959   709779    9.82%\n",
      "* 39803  9683      integral     0     4037.0000     3669.6653   743988    9.10%\n",
      "  40029  9427     3968.8281    35     4037.0000     3672.0531   752888    9.04%\n",
      "  41798  8389        cutoff           4037.0000     3711.8000   788250    8.06%\n",
      "  43800  6816        cutoff           4037.0000     3760.2667   827970    6.85%\n",
      "Elapsed time = 46.69 sec. (23521.93 ticks, tree = 5.24 MB, solutions = 8)\n",
      "  46259  4754        cutoff           4037.0000     3821.0000   867255    5.35%\n",
      "  50852   151    infeasible           4037.0000     4013.4500   906971    0.58%\n",
      "\n",
      "GUB cover cuts applied:  6\n",
      "Clique cuts applied:  1\n",
      "Cover cuts applied:  98\n",
      "Implied bound cuts applied:  19\n",
      "Flow cuts applied:  2\n",
      "Mixed integer rounding cuts applied:  33\n",
      "Zero-half cuts applied:  16\n",
      "Lift and project cuts applied:  2\n",
      "Gomory fractional cuts applied:  20\n",
      "\n",
      "Root node processing (before b&c):\n",
      "  Real time             =    0.55 sec. (200.38 ticks)\n",
      "Parallel b&c, 4 threads:\n",
      "  Real time             =   51.52 sec. (25249.84 ticks)\n",
      "  Sync time (average)   =    5.46 sec.\n",
      "  Wait time (average)   =    0.08 sec.\n",
      "                          ------------\n",
      "Total (root+branch&cut) =   52.06 sec. (25450.22 ticks)\n"
     ]
    }
   ],
   "source": [
    "a = model.solve(log_output=True)"
   ]
  },
  {
   "cell_type": "code",
   "execution_count": 19,
   "id": "dbcbb58e",
   "metadata": {},
   "outputs": [
    {
     "data": {
      "text/plain": [
       "<JobSolveStatus.OPTIMAL_SOLUTION: 2>"
      ]
     },
     "execution_count": 19,
     "metadata": {},
     "output_type": "execute_result"
    }
   ],
   "source": [
    "model.solve_status"
   ]
  },
  {
   "cell_type": "code",
   "execution_count": 20,
   "id": "f0d1a66a",
   "metadata": {},
   "outputs": [
    {
     "name": "stdout",
     "output_type": "stream",
     "text": [
      "objective: 4037\n",
      "  x_1_7_2_1=1\n",
      "  x_1_9_1_1=1\n",
      "  x_2_11_2_2=1\n",
      "  x_2_14_1_2=1\n",
      "  x_3_1_1_1=1\n",
      "  x_4_8_2_1=1\n",
      "  x_5_6_1_1=1\n",
      "  x_6_3_1_1=1\n",
      "  x_7_4_2_1=1\n",
      "  x_8_10_2_1=1\n",
      "  x_9_5_1_1=1\n",
      "  x_10_1_2_1=1\n",
      "  x_11_12_2_2=1\n",
      "  x_12_16_2_2=1\n",
      "  x_13_15_1_2=1\n",
      "  x_14_13_1_2=1\n",
      "  x_15_2_1_2=1\n",
      "  x_16_2_2_2=1\n",
      "  u_3=15.000\n",
      "  u_4=3.000\n",
      "  u_5=10.000\n",
      "  u_6=14.000\n",
      "  u_7=2.000\n",
      "  u_8=7.000\n",
      "  u_9=8.000\n",
      "  u_10=15.000\n",
      "  u_11=1.000\n",
      "  u_12=3.000\n",
      "  u_13=11.000\n",
      "  u_14=10.000\n",
      "  u_15=15.000\n",
      "  u_16=15.000\n"
     ]
    }
   ],
   "source": [
    "model.print_solution()"
   ]
  },
  {
   "cell_type": "code",
   "execution_count": 21,
   "id": "1f09f0cf",
   "metadata": {},
   "outputs": [],
   "source": [
    "active_arcs = [a for a in index_set if x[a].solution_value > 0.9]"
   ]
  },
  {
   "cell_type": "code",
   "execution_count": 22,
   "id": "6cc6780d",
   "metadata": {},
   "outputs": [
    {
     "data": {
      "image/png": "[encoded data removed]",
      "text/plain": [
       "<Figure size 432x288 with 1 Axes>"
      ]
     },
     "metadata": {},
     "output_type": "display_data"
    }
   ],
   "source": [
    "color_dic = {(1,1) : 'red', (1,2) : 'cyan', (2,1) : 'green', (2,2) : 'blue'}\n",
    "edge_color_list = []\n",
    "edge_list = []\n",
    "for i,j,k,l in active_arcs:\n",
    "    edge_list.append((i,j, {'veh' : k, 'depot' : l}))\n",
    "G.add_edges_from(edge_list)\n",
    "for edge in G.edges(data=True):\n",
    "    edge_color_list.append(color_dic[edge[2]['veh'], edge[2]['depot']])\n",
    "nx.draw_networkx(G, pos=coor_dic, node_size=500, node_color=color_list, edge_color=edge_color_list, width=2, arrowsize=20, with_labels=True)\n",
    "plt.show()"
   ]
  },
  {
   "cell_type": "code",
   "execution_count": 23,
   "id": "54a689a5",
   "metadata": {},
   "outputs": [],
   "source": [
    "tour_dis_dic, tour_time_dic = {}, {}\n",
    "for l in L:\n",
    "    for k in V_[l]:\n",
    "        tour_dis_dic[k, l] = sum(d[i,j] * x[i,j,k,l].solution_value for i in N for j in N if index_condition(i,j, k, l) and (i,j,k,l) in active_arcs)\n",
    "        tour_time_dic[k, l] = sum((t[i,j] + s[j]) * x[i,j,k,l].solution_value for i in N for j in N if index_condition(i,j, k, l) and (i,j,k,l) in active_arcs)        "
   ]
  },
  {
   "cell_type": "code",
   "execution_count": 24,
   "id": "e0b4ee3d",
   "metadata": {},
   "outputs": [
    {
     "name": "stdout",
     "output_type": "stream",
     "text": [
      "Tour distance of every vehicles : \n",
      "\n",
      "Tour distance of vehicle_1 from depot_1 is 1156.0\n",
      "Tour distance of vehicle_2 from depot_1 is 1146.0\n",
      "Tour distance of vehicle_1 from depot_2 is 728.0\n",
      "Tour distance of vehicle_2 from depot_2 is 1007.0\n",
      "\n",
      "Tour time of every vehicles : \n",
      "\n",
      "Tour time of vehicle_1 from depot_1 is 35.01\n",
      "Tour time of vehicle_2 from depot_1 is 36.57\n",
      "Tour time of vehicle_1 from depot_2 is 23.7\n",
      "Tour time of vehicle_2 from depot_2 is 31.19\n"
     ]
    }
   ],
   "source": [
    "print('Tour distance of every vehicles : \\n')\n",
    "for key in tour_dis_dic.keys():\n",
    "    print(f'Tour distance of vehicle_{key[0]} from depot_{key[1]} is {tour_dis_dic[key[0],key[1]]}')\n",
    "print('\\nTour time of every vehicles : \\n')\n",
    "for key in tour_time_dic.keys():\n",
    "    print(f'Tour time of vehicle_{key[0]} from depot_{key[1]} is {tour_time_dic[key[0],key[1]].round(2)}')"
   ]
  },
  {
   "cell_type": "code",
   "execution_count": null,
   "id": "dc8fab8e",
   "metadata": {},
   "outputs": [],
   "source": []
  }
 ],
 "metadata": {
  "kernelspec": {
   "display_name": "Python 3 (ipykernel)",
   "language": "python",
   "name": "python3"
  },
  "language_info": {
   "codemirror_mode": {
    "name": "ipython",
    "version": 3
   },
   "file_extension": ".py",
   "mimetype": "text/x-python",
   "name": "python",
   "nbconvert_exporter": "python",
   "pygments_lexer": "ipython3",
   "version": "3.9.7"
  }
 },
 "nbformat": 4,
 "nbformat_minor": 5
}
